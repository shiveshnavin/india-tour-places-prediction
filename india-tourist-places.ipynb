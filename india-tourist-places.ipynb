{
 "cells": [
  {
   "cell_type": "code",
   "execution_count": 1,
   "id": "7694abee",
   "metadata": {
    "_cell_guid": "b1076dfc-b9ad-4769-8c92-a6c4dae69d19",
    "_uuid": "8f2839f25d086af736a60e9eeb907d3b93b6e0e5",
    "execution": {
     "iopub.execute_input": "2023-10-14T06:42:32.850970Z",
     "iopub.status.busy": "2023-10-14T06:42:32.850154Z",
     "iopub.status.idle": "2023-10-14T06:42:33.135721Z",
     "shell.execute_reply": "2023-10-14T06:42:33.135164Z"
    },
    "papermill": {
     "duration": 0.291603,
     "end_time": "2023-10-14T06:42:33.137626",
     "exception": false,
     "start_time": "2023-10-14T06:42:32.846023",
     "status": "completed"
    },
    "tags": []
   },
   "outputs": [
    {
     "name": "stdout",
     "output_type": "stream",
     "text": [
      "/kaggle/input/indian-places-to-visit-reviews-data/Review_db.csv\n"
     ]
    }
   ],
   "source": [
    "# This Python 3 environment comes with many helpful analytics libraries installed\n",
    "# It is defined by the kaggle/python Docker image: https://github.com/kaggle/docker-python\n",
    "# For example, here's several helpful packages to load\n",
    "\n",
    "import numpy as np # linear algebra\n",
    "import pandas as pd # data processing, CSV file I/O (e.g. pd.read_csv)\n",
    "\n",
    "# Input data files are available in the read-only \"../input/\" directory\n",
    "# For example, running this (by clicking run or pressing Shift+Enter) will list all files under the input directory\n",
    "\n",
    "import os\n",
    "for dirname, _, filenames in os.walk('/kaggle/input'):\n",
    "    for filename in filenames:\n",
    "        print(os.path.join(dirname, filename))\n",
    "\n",
    "# You can write up to 20GB to the current directory (/kaggle/working/) that gets preserved as output when you create a version using \"Save & Run All\" \n",
    "# You can also write temporary files to /kaggle/temp/, but they won't be saved outside of the current session"
   ]
  },
  {
   "cell_type": "code",
   "execution_count": 2,
   "id": "cdceb26f",
   "metadata": {
    "execution": {
     "iopub.execute_input": "2023-10-14T06:42:33.144893Z",
     "iopub.status.busy": "2023-10-14T06:42:33.144471Z",
     "iopub.status.idle": "2023-10-14T06:42:47.530369Z",
     "shell.execute_reply": "2023-10-14T06:42:47.528742Z"
    },
    "papermill": {
     "duration": 14.391082,
     "end_time": "2023-10-14T06:42:47.532357",
     "exception": false,
     "start_time": "2023-10-14T06:42:33.141275",
     "status": "completed"
    },
    "tags": []
   },
   "outputs": [],
   "source": [
    "import pandas as pd\n",
    "datafile=os.path.join(dirname, filename)\n",
    "df = pd.read_csv(datafile)"
   ]
  },
  {
   "cell_type": "code",
   "execution_count": 3,
   "id": "016c4910",
   "metadata": {
    "execution": {
     "iopub.execute_input": "2023-10-14T06:42:47.538259Z",
     "iopub.status.busy": "2023-10-14T06:42:47.537932Z",
     "iopub.status.idle": "2023-10-14T06:42:47.614566Z",
     "shell.execute_reply": "2023-10-14T06:42:47.613857Z"
    },
    "papermill": {
     "duration": 0.08184,
     "end_time": "2023-10-14T06:42:47.616562",
     "exception": false,
     "start_time": "2023-10-14T06:42:47.534722",
     "status": "completed"
    },
    "tags": []
   },
   "outputs": [
    {
     "data": {
      "text/html": [
       "<div>\n",
       "<style scoped>\n",
       "    .dataframe tbody tr th:only-of-type {\n",
       "        vertical-align: middle;\n",
       "    }\n",
       "\n",
       "    .dataframe tbody tr th {\n",
       "        vertical-align: top;\n",
       "    }\n",
       "\n",
       "    .dataframe thead th {\n",
       "        text-align: right;\n",
       "    }\n",
       "</style>\n",
       "<table border=\"1\" class=\"dataframe\">\n",
       "  <thead>\n",
       "    <tr style=\"text-align: right;\">\n",
       "      <th></th>\n",
       "      <th>City</th>\n",
       "      <th>Place</th>\n",
       "      <th>Review</th>\n",
       "      <th>Rating</th>\n",
       "      <th>Name</th>\n",
       "      <th>Date</th>\n",
       "      <th>Raw_Review</th>\n",
       "    </tr>\n",
       "  </thead>\n",
       "  <tbody>\n",
       "    <tr>\n",
       "      <th>940989</th>\n",
       "      <td>Mumbai</td>\n",
       "      <td>Sri Sri Radha Gopinath Temple</td>\n",
       "      <td>hare krsna captured essence rgm quite literall...</td>\n",
       "      <td>5</td>\n",
       "      <td>Anonymous</td>\n",
       "      <td>NaN</td>\n",
       "      <td>Hare Krsna,\\n\\nYou have indeed captured the es...</td>\n",
       "    </tr>\n",
       "    <tr>\n",
       "      <th>1224965</th>\n",
       "      <td>Pune</td>\n",
       "      <td>Vetal Hill</td>\n",
       "      <td>perfect place joggers fitness enthusiasts envi...</td>\n",
       "      <td>5</td>\n",
       "      <td>Anonymous</td>\n",
       "      <td>NaN</td>\n",
       "      <td>A perfect place for joggers, fitness enthusias...</td>\n",
       "    </tr>\n",
       "    <tr>\n",
       "      <th>1298684</th>\n",
       "      <td>Shimla</td>\n",
       "      <td>The Mall</td>\n",
       "      <td>simple road like hill station special road enj...</td>\n",
       "      <td>5</td>\n",
       "      <td>Anonymous</td>\n",
       "      <td>NaN</td>\n",
       "      <td>A simple road just like on every hill station,...</td>\n",
       "    </tr>\n",
       "    <tr>\n",
       "      <th>188424</th>\n",
       "      <td>Bengaluru</td>\n",
       "      <td>Wonderla Amusement Park</td>\n",
       "      <td>hello thank sharing valuable feedback delighte...</td>\n",
       "      <td>5</td>\n",
       "      <td>Anonymous</td>\n",
       "      <td>NaN</td>\n",
       "      <td>Hello,\\n\\nThank you for sharing your valuable ...</td>\n",
       "    </tr>\n",
       "    <tr>\n",
       "      <th>212469</th>\n",
       "      <td>Bhubaneswar</td>\n",
       "      <td>Satkosia Tiger Reserve</td>\n",
       "      <td>allowed core area unlikely come tigers time sp...</td>\n",
       "      <td>4</td>\n",
       "      <td>Anonymous</td>\n",
       "      <td>NaN</td>\n",
       "      <td>You are not allowed into the core area. You ar...</td>\n",
       "    </tr>\n",
       "    <tr>\n",
       "      <th>394130</th>\n",
       "      <td>Gurugram (Gurgaon)</td>\n",
       "      <td>Ambience Mall</td>\n",
       "      <td>malls food court looking place eat local food ...</td>\n",
       "      <td>4</td>\n",
       "      <td>Anonymous</td>\n",
       "      <td>NaN</td>\n",
       "      <td>Some of the malls don’t have any food court. I...</td>\n",
       "    </tr>\n",
       "    <tr>\n",
       "      <th>1154682</th>\n",
       "      <td>Panchgani</td>\n",
       "      <td>Parsi Point</td>\n",
       "      <td>visit place time vistors especially children l...</td>\n",
       "      <td>5</td>\n",
       "      <td>Anonymous</td>\n",
       "      <td>NaN</td>\n",
       "      <td>must visit place for first time vistors, espec...</td>\n",
       "    </tr>\n",
       "    <tr>\n",
       "      <th>184185</th>\n",
       "      <td>Bengaluru</td>\n",
       "      <td>UB City</td>\n",
       "      <td>ub city exquisite mall lots high end brands sh...</td>\n",
       "      <td>5</td>\n",
       "      <td>Anonymous</td>\n",
       "      <td>NaN</td>\n",
       "      <td>The UB City is an exquisite mall, with lots of...</td>\n",
       "    </tr>\n",
       "    <tr>\n",
       "      <th>228268</th>\n",
       "      <td>Calangute</td>\n",
       "      <td>Calangute Beach</td>\n",
       "      <td>awesome beach brilliant sunset kids fun playin...</td>\n",
       "      <td>5</td>\n",
       "      <td>Anonymous</td>\n",
       "      <td>NaN</td>\n",
       "      <td>Awesome beach with a brilliant sunset. Kids ha...</td>\n",
       "    </tr>\n",
       "    <tr>\n",
       "      <th>92010</th>\n",
       "      <td>Amritsar</td>\n",
       "      <td>Golden Temple</td>\n",
       "      <td>place spiritual pure holy clean inside premise...</td>\n",
       "      <td>3</td>\n",
       "      <td>Anonymous</td>\n",
       "      <td>NaN</td>\n",
       "      <td>The place is so spiritual....!! So pure, so ho...</td>\n",
       "    </tr>\n",
       "  </tbody>\n",
       "</table>\n",
       "</div>"
      ],
      "text/plain": [
       "                       City                          Place  \\\n",
       "940989               Mumbai  Sri Sri Radha Gopinath Temple   \n",
       "1224965                Pune                     Vetal Hill   \n",
       "1298684              Shimla                       The Mall   \n",
       "188424            Bengaluru        Wonderla Amusement Park   \n",
       "212469          Bhubaneswar         Satkosia Tiger Reserve   \n",
       "394130   Gurugram (Gurgaon)                  Ambience Mall   \n",
       "1154682           Panchgani                    Parsi Point   \n",
       "184185            Bengaluru                        UB City   \n",
       "228268            Calangute                Calangute Beach   \n",
       "92010              Amritsar                  Golden Temple   \n",
       "\n",
       "                                                    Review  Rating       Name  \\\n",
       "940989   hare krsna captured essence rgm quite literall...       5  Anonymous   \n",
       "1224965  perfect place joggers fitness enthusiasts envi...       5  Anonymous   \n",
       "1298684  simple road like hill station special road enj...       5  Anonymous   \n",
       "188424   hello thank sharing valuable feedback delighte...       5  Anonymous   \n",
       "212469   allowed core area unlikely come tigers time sp...       4  Anonymous   \n",
       "394130   malls food court looking place eat local food ...       4  Anonymous   \n",
       "1154682  visit place time vistors especially children l...       5  Anonymous   \n",
       "184185   ub city exquisite mall lots high end brands sh...       5  Anonymous   \n",
       "228268   awesome beach brilliant sunset kids fun playin...       5  Anonymous   \n",
       "92010    place spiritual pure holy clean inside premise...       3  Anonymous   \n",
       "\n",
       "         Date                                         Raw_Review  \n",
       "940989    NaN  Hare Krsna,\\n\\nYou have indeed captured the es...  \n",
       "1224965   NaN  A perfect place for joggers, fitness enthusias...  \n",
       "1298684   NaN  A simple road just like on every hill station,...  \n",
       "188424    NaN  Hello,\\n\\nThank you for sharing your valuable ...  \n",
       "212469    NaN  You are not allowed into the core area. You ar...  \n",
       "394130    NaN  Some of the malls don’t have any food court. I...  \n",
       "1154682   NaN  must visit place for first time vistors, espec...  \n",
       "184185    NaN  The UB City is an exquisite mall, with lots of...  \n",
       "228268    NaN  Awesome beach with a brilliant sunset. Kids ha...  \n",
       "92010     NaN  The place is so spiritual....!! So pure, so ho...  "
      ]
     },
     "execution_count": 3,
     "metadata": {},
     "output_type": "execute_result"
    }
   ],
   "source": [
    "df.sample(10)"
   ]
  },
  {
   "cell_type": "code",
   "execution_count": 4,
   "id": "6ed5b213",
   "metadata": {
    "execution": {
     "iopub.execute_input": "2023-10-14T06:42:47.623551Z",
     "iopub.status.busy": "2023-10-14T06:42:47.623200Z",
     "iopub.status.idle": "2023-10-14T06:42:47.688987Z",
     "shell.execute_reply": "2023-10-14T06:42:47.688099Z"
    },
    "papermill": {
     "duration": 0.071506,
     "end_time": "2023-10-14T06:42:47.690944",
     "exception": false,
     "start_time": "2023-10-14T06:42:47.619438",
     "status": "completed"
    },
    "tags": []
   },
   "outputs": [
    {
     "name": "stdout",
     "output_type": "stream",
     "text": [
      "City\n",
      "New Delhi      96937\n",
      "Mumbai         81483\n",
      "Bengaluru      54733\n",
      "Hyderabad      39622\n",
      "Agra           39271\n",
      "               ...  \n",
      "Chettikulam        1\n",
      "Turuvekere         1\n",
      "Banni              1\n",
      "Samaguri           1\n",
      "Dhali              1\n",
      "Name: count, Length: 1794, dtype: int64\n"
     ]
    }
   ],
   "source": [
    "city_counts = df['City'].value_counts()\n",
    "print(city_counts)"
   ]
  },
  {
   "cell_type": "code",
   "execution_count": 5,
   "id": "17a0a04d",
   "metadata": {
    "execution": {
     "iopub.execute_input": "2023-10-14T06:42:47.698465Z",
     "iopub.status.busy": "2023-10-14T06:42:47.698031Z",
     "iopub.status.idle": "2023-10-14T06:42:56.807013Z",
     "shell.execute_reply": "2023-10-14T06:42:56.805918Z"
    },
    "papermill": {
     "duration": 9.114819,
     "end_time": "2023-10-14T06:42:56.809027",
     "exception": false,
     "start_time": "2023-10-14T06:42:47.694208",
     "status": "completed"
    },
    "tags": []
   },
   "outputs": [],
   "source": [
    "!pip install -q mpldatacursor"
   ]
  },
  {
   "cell_type": "code",
   "execution_count": 6,
   "id": "c2f2136f",
   "metadata": {
    "execution": {
     "iopub.execute_input": "2023-10-14T06:42:56.816031Z",
     "iopub.status.busy": "2023-10-14T06:42:56.815611Z",
     "iopub.status.idle": "2023-10-14T06:42:57.107521Z",
     "shell.execute_reply": "2023-10-14T06:42:57.106433Z"
    },
    "papermill": {
     "duration": 0.29791,
     "end_time": "2023-10-14T06:42:57.109584",
     "exception": false,
     "start_time": "2023-10-14T06:42:56.811674",
     "status": "completed"
    },
    "tags": []
   },
   "outputs": [
    {
     "data": {
      "image/png": "[encoded data removed]",
      "text/plain": [
       "<Figure size 1200x600 with 1 Axes>"
      ]
     },
     "metadata": {},
     "output_type": "display_data"
    }
   ],
   "source": [
    "import matplotlib.pyplot as plt\n",
    "import numpy as np\n",
    "import mpldatacursor  # Import the mpldatacursor library\n",
    "\n",
    "\n",
    "# Use value_counts to count unique cities and their occurrences\n",
    "city_counts = df['City'].value_counts()\n",
    "\n",
    "# Sort the city counts in descending order\n",
    "city_counts = city_counts.sort_values(ascending=False)\n",
    "\n",
    "# Create the cumulative distribution plot with the number of cities on the x-axis\n",
    "plt.figure(figsize=(12, 6))  # Set the figure size\n",
    "x_values = list(range(1, len(city_counts) + 1))\n",
    "y_values = city_counts.values\n",
    "\n",
    "# Limit the range of x-axis to be between 0 and 100\n",
    "x_values = [x for x in x_values if 0 <= x <= 100]\n",
    "y_values = y_values[:len(x_values)]\n",
    "\n",
    "plt.plot(x_values, y_values, marker='.', linestyle='none')\n",
    "plt.title('Cumulative Distribution of Cities by Reappearance Count')\n",
    "plt.xlabel('Number of Cities')\n",
    "plt.ylabel('Count')\n",
    "plt.grid(True)\n",
    "\n",
    "plt.show()\n"
   ]
  },
  {
   "cell_type": "code",
   "execution_count": 7,
   "id": "f0cbdb29",
   "metadata": {
    "execution": {
     "iopub.execute_input": "2023-10-14T06:42:57.117204Z",
     "iopub.status.busy": "2023-10-14T06:42:57.116594Z",
     "iopub.status.idle": "2023-10-14T06:43:04.260361Z",
     "shell.execute_reply": "2023-10-14T06:43:04.259428Z"
    },
    "papermill": {
     "duration": 7.149785,
     "end_time": "2023-10-14T06:43:04.262380",
     "exception": false,
     "start_time": "2023-10-14T06:42:57.112595",
     "status": "completed"
    },
    "tags": []
   },
   "outputs": [],
   "source": [
    "\n",
    "# Use value_counts to count unique cities and their occurrences\n",
    "city_counts = df['City'].value_counts()\n",
    "\n",
    "# Sort the city counts in descending order and select the top 100 cities\n",
    "top_cities = city_counts.head(100)\n",
    "\n",
    "# Create a list to store dictionaries\n",
    "result_data = []\n",
    "\n",
    "for city in top_cities.index:\n",
    "    city_count = top_cities[city]\n",
    "    city_places = df[df['City'] == city]['Place'].value_counts()\n",
    "    \n",
    "    for place, place_count in city_places.items():\n",
    "        result_data.append({'City': city, 'City_Count': city_count, 'Place': place, 'Place_Count': place_count})\n",
    "\n",
    "# Create a DataFrame from the list of dictionaries\n",
    "result_df = pd.DataFrame(result_data)\n",
    "\n",
    "# Save the new dataset to a CSV file\n",
    "result_df.to_csv('top_100_cities_and_places.csv', index=False)"
   ]
  },
  {
   "cell_type": "code",
   "execution_count": 8,
   "id": "9322d75c",
   "metadata": {
    "execution": {
     "iopub.execute_input": "2023-10-14T06:43:04.270231Z",
     "iopub.status.busy": "2023-10-14T06:43:04.269469Z",
     "iopub.status.idle": "2023-10-14T06:43:04.291528Z",
     "shell.execute_reply": "2023-10-14T06:43:04.290323Z"
    },
    "papermill": {
     "duration": 0.028022,
     "end_time": "2023-10-14T06:43:04.293546",
     "exception": false,
     "start_time": "2023-10-14T06:43:04.265524",
     "status": "completed"
    },
    "tags": []
   },
   "outputs": [],
   "source": [
    "result_df = result_df.sort_values(by=['City_Count', 'Place_Count'], ascending=[False, False])\n",
    "result_df.to_csv('top_100_cities_and_places.csv', index=False)"
   ]
  },
  {
   "cell_type": "code",
   "execution_count": 9,
   "id": "4e913ee0",
   "metadata": {
    "execution": {
     "iopub.execute_input": "2023-10-14T06:43:04.301564Z",
     "iopub.status.busy": "2023-10-14T06:43:04.300229Z",
     "iopub.status.idle": "2023-10-14T06:43:04.311336Z",
     "shell.execute_reply": "2023-10-14T06:43:04.309912Z"
    },
    "papermill": {
     "duration": 0.017085,
     "end_time": "2023-10-14T06:43:04.313666",
     "exception": false,
     "start_time": "2023-10-14T06:43:04.296581",
     "status": "completed"
    },
    "tags": []
   },
   "outputs": [
    {
     "data": {
      "text/html": [
       "<div>\n",
       "<style scoped>\n",
       "    .dataframe tbody tr th:only-of-type {\n",
       "        vertical-align: middle;\n",
       "    }\n",
       "\n",
       "    .dataframe tbody tr th {\n",
       "        vertical-align: top;\n",
       "    }\n",
       "\n",
       "    .dataframe thead th {\n",
       "        text-align: right;\n",
       "    }\n",
       "</style>\n",
       "<table border=\"1\" class=\"dataframe\">\n",
       "  <thead>\n",
       "    <tr style=\"text-align: right;\">\n",
       "      <th></th>\n",
       "      <th>City</th>\n",
       "      <th>City_Count</th>\n",
       "      <th>Place</th>\n",
       "      <th>Place_Count</th>\n",
       "    </tr>\n",
       "  </thead>\n",
       "  <tbody>\n",
       "    <tr>\n",
       "      <th>0</th>\n",
       "      <td>New Delhi</td>\n",
       "      <td>96937</td>\n",
       "      <td>Qutub Minar</td>\n",
       "      <td>10358</td>\n",
       "    </tr>\n",
       "    <tr>\n",
       "      <th>1</th>\n",
       "      <td>New Delhi</td>\n",
       "      <td>96937</td>\n",
       "      <td>Swaminarayan Akshardham</td>\n",
       "      <td>9770</td>\n",
       "    </tr>\n",
       "    <tr>\n",
       "      <th>2</th>\n",
       "      <td>New Delhi</td>\n",
       "      <td>96937</td>\n",
       "      <td>India Gate</td>\n",
       "      <td>8330</td>\n",
       "    </tr>\n",
       "    <tr>\n",
       "      <th>3</th>\n",
       "      <td>New Delhi</td>\n",
       "      <td>96937</td>\n",
       "      <td>Humayun's Tomb</td>\n",
       "      <td>7970</td>\n",
       "    </tr>\n",
       "    <tr>\n",
       "      <th>4</th>\n",
       "      <td>New Delhi</td>\n",
       "      <td>96937</td>\n",
       "      <td>Gurudwara Bangla Sahib</td>\n",
       "      <td>5584</td>\n",
       "    </tr>\n",
       "    <tr>\n",
       "      <th>5</th>\n",
       "      <td>New Delhi</td>\n",
       "      <td>96937</td>\n",
       "      <td>Lotus Temple</td>\n",
       "      <td>5387</td>\n",
       "    </tr>\n",
       "    <tr>\n",
       "      <th>6</th>\n",
       "      <td>New Delhi</td>\n",
       "      <td>96937</td>\n",
       "      <td>Red Fort (Lal Quila)</td>\n",
       "      <td>4260</td>\n",
       "    </tr>\n",
       "    <tr>\n",
       "      <th>7</th>\n",
       "      <td>New Delhi</td>\n",
       "      <td>96937</td>\n",
       "      <td>Chandni Chowk</td>\n",
       "      <td>3646</td>\n",
       "    </tr>\n",
       "    <tr>\n",
       "      <th>8</th>\n",
       "      <td>New Delhi</td>\n",
       "      <td>96937</td>\n",
       "      <td>Lodhi Garden</td>\n",
       "      <td>3457</td>\n",
       "    </tr>\n",
       "    <tr>\n",
       "      <th>9</th>\n",
       "      <td>New Delhi</td>\n",
       "      <td>96937</td>\n",
       "      <td>Connaught Place</td>\n",
       "      <td>2988</td>\n",
       "    </tr>\n",
       "  </tbody>\n",
       "</table>\n",
       "</div>"
      ],
      "text/plain": [
       "        City  City_Count                    Place  Place_Count\n",
       "0  New Delhi       96937              Qutub Minar        10358\n",
       "1  New Delhi       96937  Swaminarayan Akshardham         9770\n",
       "2  New Delhi       96937               India Gate         8330\n",
       "3  New Delhi       96937           Humayun's Tomb         7970\n",
       "4  New Delhi       96937   Gurudwara Bangla Sahib         5584\n",
       "5  New Delhi       96937             Lotus Temple         5387\n",
       "6  New Delhi       96937     Red Fort (Lal Quila)         4260\n",
       "7  New Delhi       96937            Chandni Chowk         3646\n",
       "8  New Delhi       96937             Lodhi Garden         3457\n",
       "9  New Delhi       96937          Connaught Place         2988"
      ]
     },
     "execution_count": 9,
     "metadata": {},
     "output_type": "execute_result"
    }
   ],
   "source": [
    "result_df.head(10)"
   ]
  },
  {
   "cell_type": "code",
   "execution_count": 10,
   "id": "d4d9ea90",
   "metadata": {
    "execution": {
     "iopub.execute_input": "2023-10-14T06:43:04.322031Z",
     "iopub.status.busy": "2023-10-14T06:43:04.321664Z",
     "iopub.status.idle": "2023-10-14T06:43:04.396546Z",
     "shell.execute_reply": "2023-10-14T06:43:04.395475Z"
    },
    "papermill": {
     "duration": 0.081028,
     "end_time": "2023-10-14T06:43:04.398383",
     "exception": false,
     "start_time": "2023-10-14T06:43:04.317355",
     "status": "completed"
    },
    "tags": []
   },
   "outputs": [
    {
     "name": "stdout",
     "output_type": "stream",
     "text": [
      "Place 'Qutub Minar' is found in 10358 reviews.\n"
     ]
    }
   ],
   "source": [
    "qutub_df = df[df['Place'] == \"Qutub Minar\"]\n",
    "\n",
    "if not qutub_df.empty:\n",
    "    # Get the count of \"Qutub Minar\" (assuming there's only one match)\n",
    "    count = qutub_df.shape[0]  # Number of rows matching the place\n",
    "\n",
    "    print(f\"Place 'Qutub Minar' is found in {count} reviews.\")\n",
    "else:\n",
    "    print(\"Place 'Qutub Minar' not found in the dataset.\")"
   ]
  },
  {
   "cell_type": "code",
   "execution_count": null,
   "id": "97ad1af6",
   "metadata": {
    "papermill": {
     "duration": 0.002872,
     "end_time": "2023-10-14T06:43:04.404505",
     "exception": false,
     "start_time": "2023-10-14T06:43:04.401633",
     "status": "completed"
    },
    "tags": []
   },
   "outputs": [],
   "source": []
  }
 ],
 "metadata": {
  "kernelspec": {
   "display_name": "Python 3",
   "language": "python",
   "name": "python3"
  },
  "language_info": {
   "codemirror_mode": {
    "name": "ipython",
    "version": 3
   },
   "file_extension": ".py",
   "mimetype": "text/x-python",
   "name": "python",
   "nbconvert_exporter": "python",
   "pygments_lexer": "ipython3",
   "version": "3.10.12"
  },
  "papermill": {
   "default_parameters": {},
   "duration": 34.718166,
   "end_time": "2023-10-14T06:43:05.028337",
   "environment_variables": {},
   "exception": null,
   "input_path": "__notebook__.ipynb",
   "output_path": "__notebook__.ipynb",
   "parameters": {},
   "start_time": "2023-10-14T06:42:30.310171",
   "version": "2.4.0"
  }
 },
 "nbformat": 4,
 "nbformat_minor": 5
}
